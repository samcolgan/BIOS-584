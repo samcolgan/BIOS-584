{
 "cells": [
  {
   "cell_type": "markdown",
   "id": "0c6039d7-7b56-4ec5-ab7a-88182ea6529f",
   "metadata": {},
   "source": [
    "This is my first Jupyter notebook"
   ]
  },
  {
   "cell_type": "code",
   "execution_count": null,
   "id": "a2f87bcc-b825-4d8d-8cc0-5d89e6ed6c7a",
   "metadata": {},
   "outputs": [],
   "source": [
    "print('My name is Sam Colgan')"
   ]
  }
 ],
 "metadata": {
  "kernelspec": {
   "display_name": "Python 3 (ipykernel)",
   "language": "python",
   "name": "python3"
  },
  "language_info": {
   "codemirror_mode": {
    "name": "ipython",
    "version": 3
   },
   "file_extension": ".py",
   "mimetype": "text/x-python",
   "name": "python",
   "nbconvert_exporter": "python",
   "pygments_lexer": "ipython3",
   "version": "3.13.5"
  }
 },
 "nbformat": 4,
 "nbformat_minor": 5
}
