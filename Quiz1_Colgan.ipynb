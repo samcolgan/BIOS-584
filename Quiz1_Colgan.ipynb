{
 "cells": [
  {
   "cell_type": "code",
   "execution_count": 32,
   "id": "dd0cdd3b-7b28-4c66-8e61-701c0891fa38",
   "metadata": {},
   "outputs": [
    {
     "name": "stdout",
     "output_type": "stream",
     "text": [
      "This is Sam Colgan\n"
     ]
    }
   ],
   "source": [
    "print('This is Sam Colgan')"
   ]
  },
  {
   "cell_type": "markdown",
   "id": "7b6d9d18-09f8-41c3-b740-f9f68160dad3",
   "metadata": {},
   "source": [
    "1. ['cat1', 'cat1', 'cat1'].append('cat2')"
   ]
  },
  {
   "cell_type": "code",
   "execution_count": 33,
   "id": "dba35f03-1d35-45bf-9993-ec0cf3986dff",
   "metadata": {},
   "outputs": [
    {
     "name": "stdout",
     "output_type": "stream",
     "text": [
      "['cat1', 'cat1']\n"
     ]
    }
   ],
   "source": [
    "cats_list1 = ['cat1', 'cat1', 'cat1']\n",
    "cats_list1.append('cat2')\n",
    "print(cats_list)"
   ]
  },
  {
   "cell_type": "markdown",
   "id": "f05375d5-a314-4c65-9f20-994e22550647",
   "metadata": {},
   "source": [
    "2. ['cat1, 'cat1', 'cat1'].clear()"
   ]
  },
  {
   "cell_type": "code",
   "execution_count": 34,
   "id": "3fba6768-3f39-4203-b3be-4b83e16d1e2b",
   "metadata": {},
   "outputs": [
    {
     "name": "stdout",
     "output_type": "stream",
     "text": [
      "['cat1', 'cat1']\n"
     ]
    }
   ],
   "source": [
    "cats_list2 = ['cat1', 'cat1', 'cat1']\n",
    "cats_list2.clear()\n",
    "print(cats_list)"
   ]
  },
  {
   "cell_type": "markdown",
   "id": "b52bc62b-b58a-40a8-ac57-8f9b567c1665",
   "metadata": {},
   "source": [
    "3. ['cat1', 'cat1', 'cat1'].copy()"
   ]
  },
  {
   "cell_type": "code",
   "execution_count": 35,
   "id": "56b11381-9037-4fc9-8f12-c1a602a485d7",
   "metadata": {},
   "outputs": [
    {
     "name": "stdout",
     "output_type": "stream",
     "text": [
      "['cat1', 'cat1']\n"
     ]
    }
   ],
   "source": [
    "cats_list3 = ['cat1', 'cat1', 'cat1']\n",
    "cats_list3.copy()\n",
    "print(cats_list)"
   ]
  },
  {
   "cell_type": "markdown",
   "id": "20219baa-a644-4082-8aa2-9233867600c5",
   "metadata": {},
   "source": [
    "4. ['cat1', 'cat1', 'cat2'].count('cat1')"
   ]
  },
  {
   "cell_type": "code",
   "execution_count": 36,
   "id": "a9d8ed87-4162-4225-abac-d7bbc40fec13",
   "metadata": {},
   "outputs": [
    {
     "name": "stdout",
     "output_type": "stream",
     "text": [
      "2\n"
     ]
    }
   ],
   "source": [
    "cats_list4 = ['cat1', 'cat1', 'cat2']\n",
    "print(cats_list4.count('cat1'))"
   ]
  },
  {
   "cell_type": "markdown",
   "id": "3c8763ef-699f-4bd7-bb82-e853491e9508",
   "metadata": {},
   "source": [
    "5. ['cat1', 'cat1', 'cat2'].index('cat2')"
   ]
  },
  {
   "cell_type": "code",
   "execution_count": 37,
   "id": "f2050053-88f3-40c7-8f68-408560b6d50a",
   "metadata": {},
   "outputs": [
    {
     "name": "stdout",
     "output_type": "stream",
     "text": [
      "2\n"
     ]
    }
   ],
   "source": [
    "cats_list5 = ['cat1', 'cat1', 'cat2']\n",
    "print(cats_list5.index('cat2'))"
   ]
  },
  {
   "cell_type": "markdown",
   "id": "bfffb1cf-b04d-4689-b0d4-3da9e7d07cf0",
   "metadata": {},
   "source": [
    "6. ['cat1', 'cat1', 'cat2'].insert(1, 'cat2')"
   ]
  },
  {
   "cell_type": "code",
   "execution_count": 38,
   "id": "da396b56-6c59-4aea-919f-4c95cd24926b",
   "metadata": {},
   "outputs": [
    {
     "name": "stdout",
     "output_type": "stream",
     "text": [
      "['cat1', 'cat1']\n"
     ]
    }
   ],
   "source": [
    "cats_list6 = ['cat1', 'cat1', 'cat2']\n",
    "cats_list6.insert(1, 'cat2')\n",
    "print(cats_list)"
   ]
  },
  {
   "cell_type": "markdown",
   "id": "8c7ac3f3-2a42-41b4-9c3d-275fb111556c",
   "metadata": {},
   "source": [
    "7. ['cat1', 'cat1', 'cat2'].pop(2)"
   ]
  },
  {
   "cell_type": "code",
   "execution_count": 39,
   "id": "c8ddb959-1604-4714-9aed-1e5396e15140",
   "metadata": {},
   "outputs": [
    {
     "name": "stdout",
     "output_type": "stream",
     "text": [
      "cat2\n"
     ]
    }
   ],
   "source": [
    "cats_list7 = ['cat1', 'cat1', 'cat2']\n",
    "print(cats_list7.pop(2))"
   ]
  },
  {
   "cell_type": "markdown",
   "id": "b909881b-adc2-42ac-a936-727796d7417a",
   "metadata": {},
   "source": [
    "8. ['cat1', 'cat1', 'cat2'].remove('cat2')"
   ]
  },
  {
   "cell_type": "code",
   "execution_count": 40,
   "id": "496be08a-9501-4cb0-bd3c-b58854f7a156",
   "metadata": {},
   "outputs": [
    {
     "name": "stdout",
     "output_type": "stream",
     "text": [
      "['cat1', 'cat1']\n"
     ]
    }
   ],
   "source": [
    "cats_list8 = ['cat1', 'cat1', 'cat2']\n",
    "cats_list8.remove('cat2')\n",
    "print(cats_list)"
   ]
  },
  {
   "cell_type": "markdown",
   "id": "353e1ea5-08ce-4439-8ded-5e04de89db83",
   "metadata": {},
   "source": [
    "9. ['cat1', 'cat1', 'cat2'].reverse()"
   ]
  },
  {
   "cell_type": "code",
   "execution_count": 41,
   "id": "dc1059eb-190f-4425-b3ef-59442b46e4b6",
   "metadata": {},
   "outputs": [
    {
     "name": "stdout",
     "output_type": "stream",
     "text": [
      "['cat1', 'cat1']\n"
     ]
    }
   ],
   "source": [
    "cats_list9 = ['cat1', 'cat1', 'cat2']\n",
    "cats_list9.reverse()\n",
    "print(cats_list)"
   ]
  },
  {
   "cell_type": "code",
   "execution_count": null,
   "id": "7441f275-a12f-4c24-ba2a-3b1a734a04cf",
   "metadata": {},
   "outputs": [],
   "source": []
  }
 ],
 "metadata": {
  "kernelspec": {
   "display_name": "Python 3 (ipykernel)",
   "language": "python",
   "name": "python3"
  },
  "language_info": {
   "codemirror_mode": {
    "name": "ipython",
    "version": 3
   },
   "file_extension": ".py",
   "mimetype": "text/x-python",
   "name": "python",
   "nbconvert_exporter": "python",
   "pygments_lexer": "ipython3",
   "version": "3.13.5"
  }
 },
 "nbformat": 4,
 "nbformat_minor": 5
}
